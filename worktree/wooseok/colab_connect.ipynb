{
 "cells": [
  {
   "cell_type": "markdown",
   "id": "5dc697ea",
   "metadata": {},
   "source": [
    "# VS Code와 Google Colab SSH 연동 가이드 (Cloudflared)\n",
    "\n",
    "이 노트북은 VS Code에서 SSH를 통해 Google Colab의 GPU 리소스를 사용하는 방법을 설명합니다. cloudflared를 사용하여 안전하고 빠른 연결을 제공합니다."
   ]
  },
  {
   "cell_type": "markdown",
   "id": "136a3640",
   "metadata": {},
   "source": [
    "## 1. 필요한 확장 프로그램 설치\n",
    "\n",
    "VS Code에서 다음 확장 프로그램을 설치하세요:\n",
    "\n",
    "1. Remote - SSH extension (ms-vscode-remote.remote-ssh)\n",
    "   - VS Code에서 원격 SSH 연결을 위해 필요\n",
    "   - 이미 설치되어 있다면 건너뛰기\n",
    "\n",
    "2. GPU 설정\n",
    "   - 런타임 > 런타임 유형 변경 > GPU 선택"
   ]
  },
  {
   "cell_type": "markdown",
   "id": "62e32248",
   "metadata": {},
   "source": [
    "## 2. SSH 연결 설정\n",
    "\n",
    "1. cloudflared 설치 및 설정:\n",
    "   - cloudflared 다운로드 및 설정\n",
    "   - SSH 키 생성\n",
    "   - 터널 설정\n",
    "\n",
    "2. VS Code SSH 구성:\n",
    "   - SSH 설정 파일 생성\n",
    "   - 원격 연결 설정"
   ]
  },
  {
   "cell_type": "code",
   "execution_count": null,
   "id": "25547588",
   "metadata": {},
   "outputs": [],
   "source": [
    "# 1. cloudflared 설치 및 설정\n",
    "!pip install cloudflared\n",
    "\n",
    "# 2. cloudflared 다운로드 및 실행 권한 설정\n",
    "!wget -q https://github.com/cloudflare/cloudflared/releases/latest/download/cloudflared-linux-amd64\n",
    "!chmod +x cloudflared-linux-amd64\n",
    "\n",
    "# 3. SSH 설정\n",
    "!mkdir -p ~/.ssh\n",
    "!echo \"PubkeyAcceptedKeyTypes=+ssh-rsa\" > ~/.ssh/config\n",
    "!chmod 600 ~/.ssh/config\n",
    "\n",
    "# 4. SSH 키 생성\n",
    "!ssh-keygen -t rsa -b 4096 -N '' -f ~/.ssh/id_rsa\n",
    "\n",
    "# 5. SSH 공개 키 출력 (이를 복사해두세요)\n",
    "print(\"\\n=== 아래 SSH 공개키를 복사하여 저장해두세요 ===\")\n",
    "!cat ~/.ssh/id_rsa.pub"
   ]
  },
  {
   "cell_type": "markdown",
   "id": "b0f5e578",
   "metadata": {},
   "source": [
    "## 3. SSH 터널 설정\n",
    "\n",
    "1. cloudflared 터널 시작:\n",
    "   - 터널을 통해 안전한 연결 생성\n",
    "   - 연결 주소 확인\n",
    "\n",
    "2. VS Code에서 연결:\n",
    "   - SSH 설정 파일에 호스트 추가\n",
    "   - 원격 연결 시작"
   ]
  },
  {
   "cell_type": "code",
   "execution_count": null,
   "id": "4777e5ad",
   "metadata": {},
   "outputs": [],
   "source": [
    "# 1. SSH 서비스 시작\n",
    "!service ssh start\n",
    "\n",
    "# 2. cloudflared 터널 시작\n",
    "get_ipython().system_raw('./cloudflared-linux-amd64 tunnel --url ssh://localhost:22 --logfile cloudflared.log --metrics localhost:45678 </dev/null &>/dev/null &')\n",
    "\n",
    "# 3. 연결 주소 확인 (약 15초 대기 후)\n",
    "import time\n",
    "import re\n",
    "import subprocess\n",
    "time.sleep(15)\n",
    "\n",
    "with open('cloudflared.log', 'r') as f:\n",
    "    for line in f:\n",
    "        if 'trycloudflare.com' in line:\n",
    "            match = re.search(r'https://([^\\.]+\\.trycloudflare\\.com)', line)\n",
    "            if match:\n",
    "                hostname = match.group(1)\n",
    "                print(\"\\n=== VS Code SSH 설정 ===\")\n",
    "                print(\"1. VS Code에서 Remote-SSH: Add New SSH Host를 선택\")\n",
    "                print(\"2. 다음 설정을 입력:\")\n",
    "                print(f\"ssh root@{hostname}\")\n",
    "                print(\"\\n3. 설정 파일 선택 후 연결\")\n",
    "                break"
   ]
  },
  {
   "cell_type": "markdown",
   "id": "13bae6eb",
   "metadata": {},
   "source": [
    "## 4. SSH 연결 및 개발 시작\n",
    "\n",
    "SSH 연결이 성공적으로 설정되면:\n",
    "\n",
    "1. VS Code에서:\n",
    "   - 원격 터미널에서 코드 실행 가능\n",
    "   - 파일 직접 수정 가능\n",
    "   - Git 버전 관리 사용 가능\n",
    "\n",
    "2. 주의사항:\n",
    "   - Colab 세션이 종료되면 재연결 필요\n",
    "   - 새로운 세션마다 새 SSH 키와 주소 사용\n",
    "   - 중요한 파일은 주기적으로 백업"
   ]
  },
  {
   "cell_type": "code",
   "execution_count": null,
   "id": "8aa317b0",
   "metadata": {},
   "outputs": [],
   "source": [
    "# 1. SSH 서비스 상태 확인\n",
    "!service ssh status\n",
    "\n",
    "# 2. cloudflared 프로세스 확인\n",
    "!ps aux | grep cloudflared\n",
    "\n",
    "# 3. CUDA 가용성 확인\n",
    "import torch\n",
    "print(f\"\\nCUDA 사용 가능: {torch.cuda.is_available()}\")\n",
    "if torch.cuda.is_available():\n",
    "    print(f\"GPU 모델: {torch.cuda.get_device_name(0)}\")\n",
    "    print(f\"GPU 개수: {torch.cuda.device_count()}\")\n",
    "\n",
    "print(\"\\n=== 연결 테스트 완료 ===\")\n",
    "print(\"이제 VS Code에서 SSH를 통해 접속하여 개발을 시작할 수 있습니다.\")"
   ]
  }
 ],
 "metadata": {
  "language_info": {
   "name": "python"
  }
 },
 "nbformat": 4,
 "nbformat_minor": 5
}
