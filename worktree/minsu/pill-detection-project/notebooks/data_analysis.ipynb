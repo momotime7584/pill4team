{
 "cells": [
  {
   "cell_type": "markdown",
   "id": "d5c83907",
   "metadata": {},
   "source": [
    "# 알약 검출 데이터 분석\n",
    " \n",
    "# 이 노트북은 COCO 형식의 알약 데이터를 분석하고 시각화합니다."
   ]
  },
  {
   "cell_type": "markdown",
   "id": "28deec24",
   "metadata": {},
   "source": [
    "## 1. 환경 설정"
   ]
  },
  {
   "cell_type": "code",
   "execution_count": 7,
   "id": "e09cd1b6",
   "metadata": {},
   "outputs": [
    {
     "name": "stdout",
     "output_type": "stream",
     "text": [
      "환경 설정 완료!\n"
     ]
    }
   ],
   "source": [
    "import sys\n",
    "sys.path.append('..')\n",
    "\n",
    "import json\n",
    "import numpy as np\n",
    "import pandas as pd\n",
    "from matplotlib import font_manager as fm\n",
    "import matplotlib.pyplot as plt\n",
    "import seaborn as sns\n",
    "from pathlib import Path\n",
    "from PIL import Image\n",
    "from collections import defaultdict\n",
    "import warnings\n",
    "warnings.filterwarnings('ignore')\n",
    "\n",
    "# 프로젝트 모듈\n",
    "from src.data import COCODataset\n",
    "from src.utils import Visualizer\n",
    "\n",
    "# 스타일 설정\n",
    "plt.style.use('seaborn-v0_8')\n",
    "sns.set_palette(\"husl\")\n",
    "\n",
    "print(\"환경 설정 완료!\")\n"
   ]
  },
  {
   "cell_type": "code",
   "execution_count": 6,
   "id": "dd37c688",
   "metadata": {},
   "outputs": [
    {
     "name": "stdout",
     "output_type": "stream",
     "text": [
      "현재 작업 디렉토리: /home/mscho/notebooks/ai3/project/pill-detection-project/notebooks\n"
     ]
    }
   ],
   "source": [
    "pwd = Path.cwd()\n",
    "print(f\"현재 작업 디렉토리: {pwd}\")"
   ]
  },
  {
   "cell_type": "code",
   "execution_count": 8,
   "id": "2627ccad",
   "metadata": {},
   "outputs": [
    {
     "name": "stdout",
     "output_type": "stream",
     "text": [
      "설정된 폰트: ['NanumGothic']\n",
      "unicode_minus: False\n"
     ]
    },
    {
     "data": {
      "image/png": "[encoded data removed]",
      "text/plain": [
       "<Figure size 600x400 with 1 Axes>"
      ]
     },
     "metadata": {},
     "output_type": "display_data"
    }
   ],
   "source": [
    "# NanumGothic 폰트 설정\n",
    "fm.fontManager.addfont(\"/usr/share/fonts/truetype/nanum/NanumGothic.ttf\")\n",
    "plt.rcParams['font.family'] = 'NanumGothic'\n",
    "plt.rcParams['axes.unicode_minus'] = False\n",
    "\n",
    "# 수학 텍스트는 기본 설정을 사용하되, 마이너스만 처리\n",
    "plt.rcParams['mathtext.fontset'] = 'dejavusans'  # 안전한 기본 수학 폰트\n",
    "plt.rcParams['mathtext.default'] = 'regular'\n",
    "\n",
    "print(f\"설정된 폰트: {plt.rcParams['font.family']}\")\n",
    "print(f\"unicode_minus: {plt.rcParams['axes.unicode_minus']}\")\n",
    "plt.figure(figsize=(6, 4))\n",
    "plt.plot([1, 2, 3], [1, -2, 3])\n",
    "plt.title(\"한글 폰트 적용 테스트\")\n",
    "plt.xlabel(\"x축\")\n",
    "plt.ylabel(\"y축\")\n",
    "plt.show()"
   ]
  },
  {
   "cell_type": "markdown",
   "id": "78f1cfb3",
   "metadata": {},
   "source": [
    "## 2. 데이터 로드"
   ]
  },
  {
   "cell_type": "code",
   "execution_count": 15,
   "id": "70306b6b",
   "metadata": {},
   "outputs": [
    {
     "name": "stdout",
     "output_type": "stream",
     "text": [
      "이미지 디렉토리: ai03-level1-project/train_images\n",
      "어노테이션 디렉토리: ai03-level1-project/train_annotations\n",
      "데이터셋 준비 완료: 0개 이미지, 0개 클래스\n",
      "\n",
      "데이터셋 크기: 0 이미지\n"
     ]
    }
   ],
   "source": [
    "# 데이터 경로 설정\n",
    "data_root = Path(\"./ai03-level1-project\")\n",
    "train_img_dir = data_root / \"train_images\"\n",
    "train_ann_dir = data_root / \"train_annotations\"\n",
    "\n",
    "print(f\"이미지 디렉토리: {train_img_dir}\")\n",
    "print(f\"어노테이션 디렉토리: {train_ann_dir}\")\n",
    "\n",
    "# 데이터셋 로드\n",
    "dataset = COCODataset(train_img_dir, train_ann_dir, transform=None)\n",
    "print(f\"\\n데이터셋 크기: {len(dataset)} 이미지\")"
   ]
  },
  {
   "cell_type": "markdown",
   "id": "9695a545",
   "metadata": {},
   "source": [
    "## 3. 기본 통계"
   ]
  },
  {
   "cell_type": "code",
   "execution_count": 10,
   "id": "e0427b6c",
   "metadata": {},
   "outputs": [
    {
     "name": "stdout",
     "output_type": "stream",
     "text": [
      "=== 데이터셋 통계 ===\n",
      "전체 이미지: 0\n",
      "전체 박스: 0\n",
      "이미지당 평균 박스: nan\n"
     ]
    },
    {
     "ename": "ValueError",
     "evalue": "max() iterable argument is empty",
     "output_type": "error",
     "traceback": [
      "\u001b[31m---------------------------------------------------------------------------\u001b[39m",
      "\u001b[31mValueError\u001b[39m                                Traceback (most recent call last)",
      "\u001b[36mCell\u001b[39m\u001b[36m \u001b[39m\u001b[32mIn[10]\u001b[39m\u001b[32m, line 27\u001b[39m\n\u001b[32m     25\u001b[39m \u001b[38;5;28mprint\u001b[39m(\u001b[33mf\u001b[39m\u001b[33m\"\u001b[39m\u001b[33m전체 박스: \u001b[39m\u001b[38;5;132;01m{\u001b[39;00mstats[\u001b[33m'\u001b[39m\u001b[33mtotal_boxes\u001b[39m\u001b[33m'\u001b[39m]\u001b[38;5;132;01m}\u001b[39;00m\u001b[33m\"\u001b[39m)\n\u001b[32m     26\u001b[39m \u001b[38;5;28mprint\u001b[39m(\u001b[33mf\u001b[39m\u001b[33m\"\u001b[39m\u001b[33m이미지당 평균 박스: \u001b[39m\u001b[38;5;132;01m{\u001b[39;00mnp.mean(stats[\u001b[33m'\u001b[39m\u001b[33mboxes_per_image\u001b[39m\u001b[33m'\u001b[39m])\u001b[38;5;132;01m:\u001b[39;00m\u001b[33m.2f\u001b[39m\u001b[38;5;132;01m}\u001b[39;00m\u001b[33m\"\u001b[39m)\n\u001b[32m---> \u001b[39m\u001b[32m27\u001b[39m \u001b[38;5;28mprint\u001b[39m(\u001b[33mf\u001b[39m\u001b[33m\"\u001b[39m\u001b[33m이미지당 최대 박스: \u001b[39m\u001b[38;5;132;01m{\u001b[39;00m\u001b[38;5;28;43mmax\u001b[39;49m\u001b[43m(\u001b[49m\u001b[43mstats\u001b[49m\u001b[43m[\u001b[49m\u001b[33;43m'\u001b[39;49m\u001b[33;43mboxes_per_image\u001b[39;49m\u001b[33;43m'\u001b[39;49m\u001b[43m]\u001b[49m\u001b[43m)\u001b[49m\u001b[38;5;132;01m}\u001b[39;00m\u001b[33m\"\u001b[39m)\n\u001b[32m     28\u001b[39m \u001b[38;5;28mprint\u001b[39m(\u001b[33mf\u001b[39m\u001b[33m\"\u001b[39m\u001b[33m이미지당 최소 박스: \u001b[39m\u001b[38;5;132;01m{\u001b[39;00m\u001b[38;5;28mmin\u001b[39m(stats[\u001b[33m'\u001b[39m\u001b[33mboxes_per_image\u001b[39m\u001b[33m'\u001b[39m])\u001b[38;5;132;01m}\u001b[39;00m\u001b[33m\"\u001b[39m)\n",
      "\u001b[31mValueError\u001b[39m: max() iterable argument is empty"
     ]
    }
   ],
   "source": [
    "# 통계 수집\n",
    "stats = {\n",
    "    'total_images': len(dataset),\n",
    "    'total_boxes': 0,\n",
    "    'boxes_per_image': [],\n",
    "    'class_counts': defaultdict(int),\n",
    "    'box_sizes': []\n",
    "}\n",
    "\n",
    "for i in range(len(dataset)):\n",
    "    img, target = dataset[i]\n",
    "    num_boxes = len(target['boxes'])\n",
    "    \n",
    "    stats['total_boxes'] += num_boxes\n",
    "    stats['boxes_per_image'].append(num_boxes)\n",
    "    \n",
    "    for label, box in zip(target['labels'], target['boxes']):\n",
    "        stats['class_counts'][int(label)] += 1\n",
    "        w = box[2] - box[0]\n",
    "        h = box[3] - box[1]\n",
    "        stats['box_sizes'].append((w.item(), h.item()))\n",
    "\n",
    "print(\"=== 데이터셋 통계 ===\")\n",
    "print(f\"전체 이미지: {stats['total_images']}\")\n",
    "print(f\"전체 박스: {stats['total_boxes']}\")\n",
    "print(f\"이미지당 평균 박스: {np.mean(stats['boxes_per_image']):.2f}\")\n",
    "print(f\"이미지당 최대 박스: {max(stats['boxes_per_image'])}\")\n",
    "print(f\"이미지당 최소 박스: {min(stats['boxes_per_image'])}\")"
   ]
  },
  {
   "cell_type": "markdown",
   "id": "499712d1",
   "metadata": {},
   "source": [
    "## 4. 클래스 분포"
   ]
  },
  {
   "cell_type": "code",
   "execution_count": 4,
   "id": "493e82cf",
   "metadata": {},
   "outputs": [
    {
     "data": {
      "image/png": "[encoded data removed]",
      "text/plain": [
       "<Figure size 1000x600 with 1 Axes>"
      ]
     },
     "metadata": {},
     "output_type": "display_data"
    },
    {
     "ename": "ValueError",
     "evalue": "max() iterable argument is empty",
     "output_type": "error",
     "traceback": [
      "\u001b[31m---------------------------------------------------------------------------\u001b[39m",
      "\u001b[31mValueError\u001b[39m                                Traceback (most recent call last)",
      "\u001b[36mCell\u001b[39m\u001b[36m \u001b[39m\u001b[32mIn[4]\u001b[39m\u001b[32m, line 28\u001b[39m\n\u001b[32m     25\u001b[39m plt.show()\n\u001b[32m     27\u001b[39m \u001b[38;5;66;03m# 불균형 비율\u001b[39;00m\n\u001b[32m---> \u001b[39m\u001b[32m28\u001b[39m imbalance_ratio = \u001b[38;5;28;43mmax\u001b[39;49m\u001b[43m(\u001b[49m\u001b[43mclass_counts\u001b[49m\u001b[43m)\u001b[49m / \u001b[38;5;28mmin\u001b[39m(class_counts)\n\u001b[32m     29\u001b[39m \u001b[38;5;28mprint\u001b[39m(\u001b[33mf\u001b[39m\u001b[33m\"\u001b[39m\u001b[38;5;130;01m\\n\u001b[39;00m\u001b[33m클래스 불균형 비율: \u001b[39m\u001b[38;5;132;01m{\u001b[39;00mimbalance_ratio\u001b[38;5;132;01m:\u001b[39;00m\u001b[33m.2f\u001b[39m\u001b[38;5;132;01m}\u001b[39;00m\u001b[33m:1\u001b[39m\u001b[33m\"\u001b[39m)\n",
      "\u001b[31mValueError\u001b[39m: max() iterable argument is empty"
     ]
    }
   ],
   "source": [
    "# 클래스 분포 시각화\n",
    "classes = dataset.categories\n",
    "class_names = [classes.get(i, f\"Class {i}\") for i in sorted(stats['class_counts'].keys())]\n",
    "class_counts = [stats['class_counts'][i] for i in sorted(stats['class_counts'].keys())]\n",
    "\n",
    "plt.figure(figsize=(10, 6))\n",
    "bars = plt.bar(class_names, class_counts)\n",
    "\n",
    "# 색상 설정\n",
    "colors = plt.cm.rainbow(np.linspace(0, 1, len(class_names)))\n",
    "for bar, color in zip(bars, colors):\n",
    "    bar.set_color(color)\n",
    "\n",
    "# 값 표시\n",
    "for bar in bars:\n",
    "    height = bar.get_height()\n",
    "    plt.text(bar.get_x() + bar.get_width()/2., height,\n",
    "             f'{int(height)}', ha='center', va='bottom')\n",
    "\n",
    "plt.xlabel('알약 종류')\n",
    "plt.ylabel('박스 수')\n",
    "plt.title('클래스별 분포')\n",
    "plt.xticks(rotation=45, ha='right')\n",
    "plt.tight_layout()\n",
    "plt.show()\n",
    "\n",
    "# 불균형 비율\n",
    "imbalance_ratio = max(class_counts) / min(class_counts)\n",
    "print(f\"\\n클래스 불균형 비율: {imbalance_ratio:.2f}:1\")\n"
   ]
  },
  {
   "cell_type": "markdown",
   "id": "879996db",
   "metadata": {},
   "source": [
    "## 5. 박스 크기 분석"
   ]
  },
  {
   "cell_type": "code",
   "execution_count": null,
   "id": "c66fd903",
   "metadata": {},
   "outputs": [],
   "source": [
    "if stats['box_sizes']:\n",
    "    widths, heights = zip(*stats['box_sizes'])\n",
    "    \n",
    "    fig, axes = plt.subplots(1, 3, figsize=(15, 5))\n",
    "    \n",
    "    # 너비 분포\n",
    "    axes[0].hist(widths, bins=50, alpha=0.7, color='blue')\n",
    "    axes[0].axvline(np.mean(widths), color='red', linestyle='--',\n",
    "                    label=f'평균: {np.mean(widths):.1f}')\n",
    "    axes[0].set_xlabel('너비 (pixels)')\n",
    "    axes[0].set_ylabel('빈도')\n",
    "    axes[0].set_title('박스 너비 분포')\n",
    "    axes[0].legend()\n",
    "    \n",
    "    # 높이 분포\n",
    "    axes[1].hist(heights, bins=50, alpha=0.7, color='green')\n",
    "    axes[1].axvline(np.mean(heights), color='red', linestyle='--',\n",
    "                    label=f'평균: {np.mean(heights):.1f}')\n",
    "    axes[1].set_xlabel('높이 (pixels)')\n",
    "    axes[1].set_ylabel('빈도')\n",
    "    axes[1].set_title('박스 높이 분포')\n",
    "    axes[1].legend()\n",
    "    \n",
    "    # 산점도\n",
    "    axes[2].scatter(widths, heights, alpha=0.5, s=1)\n",
    "    axes[2].set_xlabel('너비 (pixels)')\n",
    "    axes[2].set_ylabel('높이 (pixels)')\n",
    "    axes[2].set_title('박스 크기 분포')\n",
    "    axes[2].grid(True, alpha=0.3)\n",
    "    \n",
    "    plt.tight_layout()\n",
    "    plt.show()\n",
    "    \n",
    "    print(\"\\n박스 크기 통계:\")\n",
    "    print(f\"평균 크기: {np.mean(widths):.1f} x {np.mean(heights):.1f}\")\n",
    "    print(f\"최소 크기: {min(widths):.0f} x {min(heights):.0f}\")\n",
    "    print(f\"최대 크기: {max(widths):.0f} x {max(heights):.0f}\")\n"
   ]
  },
  {
   "cell_type": "markdown",
   "id": "aebe55d1",
   "metadata": {},
   "source": [
    "## 6. 샘플 시각화"
   ]
  },
  {
   "cell_type": "code",
   "execution_count": null,
   "id": "0ead8270",
   "metadata": {},
   "outputs": [],
   "source": [
    "# 시각화 도구\n",
    "visualizer = Visualizer()\n",
    "\n",
    "# 랜덤 샘플 선택\n",
    "sample_indices = np.random.choice(len(dataset), 6, replace=False)\n",
    "\n",
    "fig, axes = plt.subplots(2, 3, figsize=(15, 10))\n",
    "axes = axes.ravel()\n",
    "\n",
    "for idx, sample_idx in enumerate(sample_indices):\n",
    "    ax = axes[idx]\n",
    "    \n",
    "    # 데이터 가져오기\n",
    "    image, target = dataset[sample_idx]\n",
    "    img_info = dataset.get_img_info(sample_idx)\n",
    "    \n",
    "    # numpy 배열로 변환\n",
    "    if torch.is_tensor(image):\n",
    "        image = image.numpy()\n",
    "    \n",
    "    # 이미지 표시\n",
    "    ax.imshow(image)\n",
    "    \n",
    "    # 박스 그리기\n",
    "    boxes = target['boxes'].numpy()\n",
    "    labels = target['labels'].numpy()\n",
    "    \n",
    "    for box, label in zip(boxes, labels):\n",
    "        x1, y1, x2, y2 = box\n",
    "        w = x2 - x1\n",
    "        h = y2 - y1\n",
    "        \n",
    "        rect = plt.Rectangle((x1, y1), w, h,\n",
    "                           linewidth=2,\n",
    "                           edgecolor='red',\n",
    "                           facecolor='none')\n",
    "        ax.add_patch(rect)\n",
    "        \n",
    "        # 레이블\n",
    "        class_name = dataset.categories.get(label, f\"Class {label}\")\n",
    "        ax.text(x1, y1-5, class_name,\n",
    "               bbox=dict(facecolor='red', alpha=0.5),\n",
    "               fontsize=8, color='white')\n",
    "    \n",
    "    ax.set_title(f\"Image {sample_idx}: {len(boxes)} boxes\")\n",
    "    ax.axis('off')\n",
    "\n",
    "plt.tight_layout()\n",
    "plt.show()"
   ]
  },
  {
   "cell_type": "markdown",
   "id": "1ee4f387",
   "metadata": {},
   "source": [
    "## 7. 이미지당 박스 수 분석"
   ]
  },
  {
   "cell_type": "code",
   "execution_count": null,
   "id": "dbfebeac",
   "metadata": {},
   "outputs": [],
   "source": [
    "plt.figure(figsize=(10, 6))\n",
    "plt.hist(stats['boxes_per_image'], \n",
    "         bins=range(0, max(stats['boxes_per_image'])+2),\n",
    "         alpha=0.7, color='purple', edgecolor='black')\n",
    "\n",
    "plt.axvline(np.mean(stats['boxes_per_image']), color='red', linestyle='--',\n",
    "            label=f'평균: {np.mean(stats['boxes_per_image']):.2f}')\n",
    "plt.axvline(np.median(stats['boxes_per_image']), color='green', linestyle='--',\n",
    "            label=f'중앙값: {np.median(stats['boxes_per_image']):.0f}')\n",
    "\n",
    "plt.xlabel('이미지당 박스 수')\n",
    "plt.ylabel('이미지 수')\n",
    "plt.title('이미지당 박스 수 분포')\n",
    "plt.legend()\n",
    "plt.grid(True, alpha=0.3)\n",
    "plt.show()"
   ]
  },
  {
   "cell_type": "markdown",
   "id": "a8cccac4",
   "metadata": {},
   "source": [
    "## 8. 데이터 품질 체크"
   ]
  },
  {
   "cell_type": "code",
   "execution_count": null,
   "id": "1909efbb",
   "metadata": {},
   "outputs": [],
   "source": [
    "# 이상치 검출\n",
    "issues = {\n",
    "    'no_boxes': [],\n",
    "    'too_small': [],\n",
    "    'too_large': [],\n",
    "    'extreme_ratio': []\n",
    "}\n",
    "\n",
    "MIN_SIZE = 10\n",
    "MAX_SIZE = 500\n",
    "\n",
    "for i in range(len(dataset)):\n",
    "    img, target = dataset[i]\n",
    "    boxes = target['boxes'].numpy()\n",
    "    \n",
    "    # 박스가 없는 이미지\n",
    "    if len(boxes) == 0:\n",
    "        issues['no_boxes'].append(i)\n",
    "    \n",
    "    # 박스 크기 검사\n",
    "    for box in boxes:\n",
    "        w = box[2] - box[0]\n",
    "        h = box[3] - box[1]\n",
    "        \n",
    "        if w < MIN_SIZE or h < MIN_SIZE:\n",
    "            issues['too_small'].append((i, w, h))\n",
    "        \n",
    "        if w > MAX_SIZE or h > MAX_SIZE:\n",
    "            issues['too_large'].append((i, w, h))\n",
    "        \n",
    "        ratio = w / h if h > 0 else 0\n",
    "        if ratio < 0.2 or ratio > 5:\n",
    "            issues['extreme_ratio'].append((i, ratio))\n",
    "\n",
    "print(\"=== 데이터 품질 이슈 ===\")\n",
    "print(f\"박스 없는 이미지: {len(issues['no_boxes'])}개\")\n",
    "print(f\"너무 작은 박스: {len(issues['too_small'])}개\")\n",
    "print(f\"너무 큰 박스: {len(issues['too_large'])}개\")\n",
    "print(f\"극단적 종횡비: {len(issues['extreme_ratio'])}개\")"
   ]
  },
  {
   "cell_type": "markdown",
   "id": "9d432beb",
   "metadata": {},
   "source": [
    "## 9. 권장사항"
   ]
  },
  {
   "cell_type": "code",
   "execution_count": null,
   "id": "fedb6dac",
   "metadata": {},
   "outputs": [],
   "source": [
    "print(\"=== 데이터 분석 기반 권장사항 ===\\n\")\n",
    "\n",
    "# 클래스 불균형\n",
    "if imbalance_ratio > 2:\n",
    "    print(\"1. 클래스 불균형 해결:\")\n",
    "    print(f\"   - 불균형 비율: {imbalance_ratio:.1f}:1\")\n",
    "    print(\"   - 해결방안: 클래스 가중치 사용 또는 오버샘플링\")\n",
    "\n",
    "# 박스 크기\n",
    "print(f\"\\n2. 앵커 박스 크기 설정:\")\n",
    "print(f\"   - 추천 크기: {int(np.percentile(widths, 20))}-{int(np.percentile(widths, 80))} pixels\")\n",
    "\n",
    "# 배치 크기\n",
    "avg_boxes = np.mean(stats['boxes_per_image'])\n",
    "if avg_boxes > 5:\n",
    "    print(f\"\\n3. 메모리 고려사항:\")\n",
    "    print(f\"   - 이미지당 평균 {avg_boxes:.1f}개 박스\")\n",
    "    print(\"   - 권장 배치 크기: 4-8\")\n",
    "\n",
    "# 데이터 증강\n",
    "print(\"\\n4. 데이터 증강 전략:\")\n",
    "print(\"   - 수평 플립: 권장\")\n",
    "print(\"   - 회전: ±15도 권장\")\n",
    "print(\"   - 스케일: 0.8-1.2 권장\")"
   ]
  },
  {
   "cell_type": "markdown",
   "id": "1c2f13c8",
   "metadata": {},
   "source": [
    "## 10. 결과 저장"
   ]
  },
  {
   "cell_type": "code",
   "execution_count": null,
   "id": "f5a022be",
   "metadata": {},
   "outputs": [],
   "source": [
    "# 분석 결과 저장\n",
    "analysis_results = {\n",
    "    'dataset_stats': {\n",
    "        'total_images': stats['total_images'],\n",
    "        'total_boxes': stats['total_boxes'],\n",
    "        'avg_boxes_per_image': float(np.mean(stats['boxes_per_image'])),\n",
    "        'class_distribution': dict(stats['class_counts'])\n",
    "    },\n",
    "    'box_stats': {\n",
    "        'avg_width': float(np.mean(widths)),\n",
    "        'avg_height': float(np.mean(heights)),\n",
    "        'min_size': (float(min(widths)), float(min(heights))),\n",
    "        'max_size': (float(max(widths)), float(max(heights)))\n",
    "    },\n",
    "    'quality_issues': {\n",
    "        'no_boxes': len(issues['no_boxes']),\n",
    "        'too_small': len(issues['too_small']),\n",
    "        'too_large': len(issues['too_large'])\n",
    "    }\n",
    "}\n",
    "\n",
    "# JSON으로 저장\n",
    "output_path = Path('data_analysis_results.json')\n",
    "with open(output_path, 'w') as f:\n",
    "    json.dump(analysis_results, f, indent=2)\n",
    "\n",
    "print(f\"\\n분석 결과 저장: {output_path}\")"
   ]
  },
  {
   "cell_type": "markdown",
   "id": "576212fc",
   "metadata": {},
   "source": []
  }
 ],
 "metadata": {
  "kernelspec": {
   "display_name": "project-env",
   "language": "python",
   "name": "python3"
  },
  "language_info": {
   "codemirror_mode": {
    "name": "ipython",
    "version": 3
   },
   "file_extension": ".py",
   "mimetype": "text/x-python",
   "name": "python",
   "nbconvert_exporter": "python",
   "pygments_lexer": "ipython3",
   "version": "3.13.5"
  }
 },
 "nbformat": 4,
 "nbformat_minor": 5
}
